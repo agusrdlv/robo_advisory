{
 "cells": [
  {
   "cell_type": "markdown",
   "metadata": {},
   "source": [
    "# Toy Robo Advisor"
   ]
  },
  {
   "cell_type": "markdown",
   "metadata": {},
   "source": [
    "The objective of this notebook is to recreate what some \"robo advisors\" do in the market. They only suggest to a potential investor a set of pre-set portfolios according to one, or luckily some, restraints from the user such as its risk aversion or the time horizon for the investment."
   ]
  },
  {
   "cell_type": "code",
   "execution_count": 1,
   "metadata": {},
   "outputs": [],
   "source": [
    "import pandas as pd\n",
    "import numpy as np\n",
    "import matplotlib.pyplot as plt"
   ]
  },
  {
   "cell_type": "code",
   "execution_count": 2,
   "metadata": {},
   "outputs": [],
   "source": [
    "# we define the risk profiles\n",
    "risk_profiles = ['conservative', 'moderate', 'growth']\n",
    "rp = None\n",
    "\n",
    "# we define the posssible time horizons\n",
    "time_horizons = ['short term', 'medium term', 'long term']\n",
    "th = None\n",
    "\n",
    "# we define categories of wealth\n",
    "client_type = ['retail', 'wealthy']\n",
    "wealth = None "
   ]
  },
  {
   "cell_type": "code",
   "execution_count": 3,
   "metadata": {},
   "outputs": [],
   "source": [
    "# we define a type of attention that te company want to provide to each type of client according to its wealth\n",
    "def channel(wealth):\n",
    "    if wealth < 50000:\n",
    "        return client_type[0]\n",
    "    else:\n",
    "        return clent_type[1]"
   ]
  },
  {
   "cell_type": "code",
   "execution_count": 35,
   "metadata": {},
   "outputs": [],
   "source": [
    "wealth = 10000"
   ]
  },
  {
   "cell_type": "code",
   "execution_count": 36,
   "metadata": {},
   "outputs": [
    {
     "data": {
      "text/plain": [
       "'retail'"
      ]
     },
     "execution_count": 36,
     "metadata": {},
     "output_type": "execute_result"
    }
   ],
   "source": [
    "channel(wealth)"
   ]
  },
  {
   "cell_type": "code",
   "execution_count": 37,
   "metadata": {},
   "outputs": [],
   "source": [
    "# we define the assets that all porfolios are going to have (a portfolio manager should do this)\n",
    "tickets = ['SPY', 'QQQ', 'EEM', 'GLD', 'BND', 'VNQ']"
   ]
  },
  {
   "cell_type": "code",
   "execution_count": 38,
   "metadata": {},
   "outputs": [],
   "source": [
    "# we set the weights of every asset in every portfolio (a portfolio manager should do this, too)\n",
    "portfolios = {'sc':[0, 0, 0, 0.4, 0.6, 0],\n",
    "              'sm':[0.1, 0, 0, 0.3, 0.6, 0],\n",
    "              'sg':[0.1, 0.1, 0, 0.3, 0.5, 0],\n",
    "              'mc':[0.2, 0.1, 0, 0.1, 0.4, 0.2],\n",
    "              'mm':[0.2, 0.2, 0, 0.1, 0.3, 0.2],\n",
    "              'mg':[0.3, 0.2, 0.1, 0.1, 0.2, 0.1],\n",
    "              'lc':[0.4, 0.2, 0, 0.1, 0.1, 0.2],\n",
    "              'lm':[0.4, 0.2, 0.1, 0, 0.1, 0.2],\n",
    "              'lg':[0.4, 0.3, 0.1, 0, 0.1, 0.1],\n",
    "             }"
   ]
  },
  {
   "cell_type": "code",
   "execution_count": 39,
   "metadata": {},
   "outputs": [],
   "source": [
    "def toy_robo_advisor(rp, th, wealth):\n",
    "    recommendation = None\n",
    "    if th == time_horizons[0]:\n",
    "        if rp == risk_profiles[0]:\n",
    "            recommendation = wealth * np.asarray(portfolios['sc'], dtype='float64')\n",
    "        if rp == risk_profiles[1]:\n",
    "            recommendation = wealth * np.asarray(portfolios['sm'], dtype='float64')\n",
    "        if rp == risk_profiles[2]:\n",
    "            recommendation = wealth * np.asarray(portfolios['sg'], dtype='float64')\n",
    "    if th == time_horizons[1]:\n",
    "        if rp == risk_profiles[0]:\n",
    "            recommendation = wealth * np.asarray(portfolios['mc'], dtype='float64')\n",
    "        if rp == risk_profiles[1]:\n",
    "            recommendation = wealth * np.asarray(portfolios['mm'], dtype='float64')\n",
    "        if rp == risk_profiles[2]:\n",
    "            recommendation = wealth * np.asarray(portfolios['mg'], dtype='float64')\n",
    "    if th == time_horizons[2]:\n",
    "        if rp == risk_profiles[0]:\n",
    "            recommendation = wealth * np.asarray(portfolios['lc'], dtype='float64')\n",
    "        if rp == risk_profiles[1]:\n",
    "            recommendation = wealth * np.asarray(portfolios['lm'], dtype='float64')\n",
    "        if rp == risk_profiles[2]:\n",
    "            recommendation = wealth * np.asarray(portfolios['lg'], dtype='float64')\n",
    "    return recommendation"
   ]
  },
  {
   "cell_type": "code",
   "execution_count": 9,
   "metadata": {},
   "outputs": [],
   "source": [
    "def print_recommendation(rp, th, wealth):\n",
    "    recommendation = toy_robo_advisor(rp,th,wealth)\n",
    "    print('According to your risk aversion and time horizon profile, you should invest in the following portfolio: SPY, QQQ, EEM, GLD, BND, VNQ. We recommend you allocate your wealth in the following way:{}'.format(recommendation))"
   ]
  },
  {
   "cell_type": "code",
   "execution_count": 10,
   "metadata": {},
   "outputs": [
    {
     "data": {
      "text/plain": [
       "array([20000., 10000.,     0., 10000., 40000., 20000.])"
      ]
     },
     "execution_count": 10,
     "metadata": {},
     "output_type": "execute_result"
    }
   ],
   "source": [
    "toy_robo_advisor(rp='conservative', th='medium term', wealth=10000)"
   ]
  },
  {
   "cell_type": "code",
   "execution_count": 40,
   "metadata": {},
   "outputs": [
    {
     "name": "stdout",
     "output_type": "stream",
     "text": [
      "According to your risk aversion and time horizon profile, you should invest in the following portfolio: SPY, QQQ, EEM, GLD, BND, VNQ. We recommend you allocate your wealth in the following way:[2000. 1000.    0. 1000. 4000. 2000.]\n"
     ]
    }
   ],
   "source": [
    "print_recommendation(rp='conservative', th='medium term', wealth=10000)"
   ]
  },
  {
   "cell_type": "code",
   "execution_count": 105,
   "metadata": {},
   "outputs": [],
   "source": [
    "def graph_recommendation(rp, th, wealth):\n",
    "    labels = tickets\n",
    "    pct_weights =  np.divide(toy_robo_advisor(rp, th, wealth), wealth)\n",
    "    w = list(range(len(tickets)))\n",
    "    for i in w:\n",
    "        if pct_weights[i:i] == 0:\n",
    "            labels.drop(labels[i], inplace=True)\n",
    "    colors = ['green', 'lightskyblue', 'lightcoral', 'gold', 'grey', 'red']\n",
    "\n",
    "    # Plot\n",
    "    plt.pie(pct_weights, labels=labels, colors=colors, autopct='%1.1f%%', shadow=True, startangle=90)\n",
    "    \n",
    "\n",
    "    plt.axis('equal')\n",
    "    plt.show()"
   ]
  },
  {
   "cell_type": "code",
   "execution_count": 106,
   "metadata": {},
   "outputs": [
    {
     "name": "stderr",
     "output_type": "stream",
     "text": [
      "/Users/agustinramellodelavega/miniconda3/lib/python3.6/site-packages/ipykernel_launcher.py:6: DeprecationWarning: The truth value of an empty array is ambiguous. Returning False, but in future this will result in an error. Use `array.size > 0` to check that an array is not empty.\n",
      "  \n"
     ]
    },
    {
     "data": {
      "image/png": "[encoded data removed]",
      "text/plain": [
       "<Figure size 432x288 with 1 Axes>"
      ]
     },
     "metadata": {},
     "output_type": "display_data"
    }
   ],
   "source": [
    "graph_recommendation(rp='conservative', th='medium term', wealth=10000)"
   ]
  },
  {
   "cell_type": "code",
   "execution_count": null,
   "metadata": {},
   "outputs": [],
   "source": []
  }
 ],
 "metadata": {
  "kernelspec": {
   "display_name": "Python 3",
   "language": "python",
   "name": "python3"
  },
  "language_info": {
   "codemirror_mode": {
    "name": "ipython",
    "version": 3
   },
   "file_extension": ".py",
   "mimetype": "text/x-python",
   "name": "python",
   "nbconvert_exporter": "python",
   "pygments_lexer": "ipython3",
   "version": "3.6.1"
  }
 },
 "nbformat": 4,
 "nbformat_minor": 2
}
